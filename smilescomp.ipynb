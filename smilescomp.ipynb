{
  "nbformat": 4,
  "nbformat_minor": 0,
  "metadata": {
    "colab": {
      "provenance": [],
      "authorship_tag": "ABX9TyOXYWC6jxL4OvPTFVxFSYPn",
      "include_colab_link": true
    },
    "kernelspec": {
      "name": "python3",
      "display_name": "Python 3"
    },
    "language_info": {
      "name": "python"
    }
  },
  "cells": [
    {
      "cell_type": "markdown",
      "metadata": {
        "id": "view-in-github",
        "colab_type": "text"
      },
      "source": [
        "<a href=\"https://colab.research.google.com/github/georgyzaouk/BS-Capstone/blob/main/smilescomp.ipynb\" target=\"_parent\"><img src=\"https://colab.research.google.com/assets/colab-badge.svg\" alt=\"Open In Colab\"/></a>"
      ]
    },
    {
      "cell_type": "code",
      "execution_count": null,
      "metadata": {
        "colab": {
          "base_uri": "https://localhost:8080/"
        },
        "id": "LTQYNjUzEK98",
        "outputId": "700ce0fe-11b3-4127-b49e-87611c58a895"
      },
      "outputs": [
        {
          "output_type": "stream",
          "name": "stdout",
          "text": [
            "Requirement already satisfied: pubchempy in /usr/local/lib/python3.11/dist-packages (1.0.4)\n",
            "Requirement already satisfied: pandas in /usr/local/lib/python3.11/dist-packages (2.2.2)\n",
            "Requirement already satisfied: openpyxl in /usr/local/lib/python3.11/dist-packages (3.1.5)\n",
            "Requirement already satisfied: numpy>=1.23.2 in /usr/local/lib/python3.11/dist-packages (from pandas) (2.0.2)\n",
            "Requirement already satisfied: python-dateutil>=2.8.2 in /usr/local/lib/python3.11/dist-packages (from pandas) (2.8.2)\n",
            "Requirement already satisfied: pytz>=2020.1 in /usr/local/lib/python3.11/dist-packages (from pandas) (2025.2)\n",
            "Requirement already satisfied: tzdata>=2022.7 in /usr/local/lib/python3.11/dist-packages (from pandas) (2025.2)\n",
            "Requirement already satisfied: et-xmlfile in /usr/local/lib/python3.11/dist-packages (from openpyxl) (2.0.0)\n",
            "Requirement already satisfied: six>=1.5 in /usr/local/lib/python3.11/dist-packages (from python-dateutil>=2.8.2->pandas) (1.17.0)\n",
            "Requirement already satisfied: rdkit in /usr/local/lib/python3.11/dist-packages (2024.9.6)\n",
            "Requirement already satisfied: numpy in /usr/local/lib/python3.11/dist-packages (from rdkit) (2.0.2)\n",
            "Requirement already satisfied: Pillow in /usr/local/lib/python3.11/dist-packages (from rdkit) (11.1.0)\n",
            "Requirement already satisfied: openpyxl in /usr/local/lib/python3.11/dist-packages (3.1.5)\n",
            "Requirement already satisfied: et-xmlfile in /usr/local/lib/python3.11/dist-packages (from openpyxl) (2.0.0)\n"
          ]
        }
      ],
      "source": [
        "!pip install pubchempy pandas openpyxl\n",
        "!pip install rdkit\n",
        "!pip install openpyxl"
      ]
    },
    {
      "cell_type": "code",
      "source": [
        "import pandas as pd\n",
        "from pubchempy import get_compounds\n",
        "from rdkit import Chem\n",
        "import time\n",
        "import openpyxl\n",
        "\n",
        "# Load the data\n",
        "LiverTox = pd.read_excel(\"/content/preLiverTox.xlsx\")\n",
        "DILIrank = pd.read_excel(\"/content/preDILIrank.xlsx\")\n",
        "\n",
        "# Function to validate the SMILES\n",
        "def is_valid_smiles(smiles):\n",
        "    return Chem.MolFromSmiles(smiles) is not None\n",
        "\n",
        "# Function to get SMILES from PubChem\n",
        "def get_smiles(drug_name, max_retries=3):\n",
        "    for attempt in range(max_retries):\n",
        "        try:\n",
        "            compounds = get_compounds(drug_name, 'name')\n",
        "            if compounds:\n",
        "                smiles = compounds[0].canonical_smiles\n",
        "                if is_valid_smiles(smiles):\n",
        "                    return smiles\n",
        "            return None\n",
        "        except Exception as e:\n",
        "            if 'ServerBusy' in str(e) and attempt < max_retries - 1:\n",
        "                time.sleep(2)\n",
        "            else:\n",
        "                print(f\"Error fetching {drug_name}: {e}\")\n",
        "                return None\n",
        "\n",
        "# For LiverTox, use both ingredients and drug_brand\n",
        "def resolve_smiles_livertox(row):\n",
        "    # Try ingredients first\n",
        "    smiles = get_smiles(row['Ingredient'])\n",
        "    if not smiles or smiles == '':\n",
        "        # If ingredients failed, try drug_brand\n",
        "        smiles = get_smiles(row['Brand Name'])\n",
        "    return smiles\n",
        "\n",
        "# For DILIrank, only try the compound name (single column)\n",
        "def resolve_smiles_dilirank(row):\n",
        "    return get_smiles(row['Compound Name'])\n",
        "\n",
        "# Apply the appropriate function to each dataset\n",
        "LiverTox['SMILES'] = LiverTox.apply(resolve_smiles_livertox, axis=1)\n",
        "DILIrank['SMILES'] = DILIrank.apply(resolve_smiles_dilirank, axis=1)\n",
        "\n",
        "# Save both datasets with SMILES to Excel files\n",
        "LiverTox.to_excel(\"/content/livertox_with_smiles.xlsx\", index=False, engine='openpyxl')\n",
        "DILIrank.to_excel(\"/content/dilirank_with_smiles.xlsx\", index=False, engine='openpyxl')\n",
        "\n",
        "print(\"✅ Done! SMILES saved for both datasets.\")"
      ],
      "metadata": {
        "colab": {
          "base_uri": "https://localhost:8080/"
        },
        "id": "GuQaXdtsEOUa",
        "outputId": "c3fbfcfe-9070-447d-b4c2-72d96794cf1e"
      },
      "execution_count": null,
      "outputs": [
        {
          "output_type": "stream",
          "name": "stdout",
          "text": [
            "✅ Done! SMILES saved for both datasets.\n"
          ]
        }
      ]
    },
    {
      "cell_type": "code",
      "source": [],
      "metadata": {
        "id": "_ER0UmV6dbpW"
      },
      "execution_count": null,
      "outputs": []
    }
  ]
}